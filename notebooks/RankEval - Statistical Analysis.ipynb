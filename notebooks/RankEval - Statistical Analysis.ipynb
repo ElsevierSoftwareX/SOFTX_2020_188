{
 "cells": [
  {
   "cell_type": "markdown",
   "metadata": {},
   "source": [
    "# Bias-Variance\n",
    "\n",
    "... on going ...\n",
    "\n",
    "by reading a few papers [cite] the methodology is as follows...\n",
    "\n",
    "The Loss of a Algorithm (not of a model!) can be decomposed in:\n",
    "$$L(A) = Bias(A) + Variance(A) + Noise(A)$$\n",
    "where:\n",
    " - Bias is how far is the model from the prediction\n",
    " - Variance is how sensitive (how changes) the prediction with different training sets (overfitting)\n",
    " - Noise is the irreducible error in the dataset (learner independent)\n",
    "\n",
    "Given a dataset $D$, given a number of iteration $l$, we need to produce $l$ score predictions\n",
    "for each element in $D$ with $l$ different models. If the loss function $L$ is MSE then everything is clear.\n",
    "If the loss function is NDCG, no previous work.\n",
    "\n",
    "  0. Shuffle $D$ and create two halves $D_1$ and $D_2$ (this should be query-aware with NDCG)\n",
    "  0. learn a model from $D_1$ and apply it to $D_2$\n",
    "  0. learn a model from $D_2$ and apply it to $D_1$\n",
    "  0. store the scores produced so far\n",
    "  0. Repeat all of the above $l$ times\n",
    "  0. for each document/query compute the average prediction by averagin the $l$ stored so far (for ranking this is actually not defined, we may average predictions and then rank accordingly)\n",
    "  0. Bias of a query/document is computed as the loss between the ideal prediction and the average prediction\n",
    "  0. Average above for every query/document to obtain final Bias\n",
    "  0. Variance of a query/document is computed as the average loss between the average prediction and every of the $l$ predictions\n",
    "  0. Average above for every query/document to obtain final Variance\n",
    " \n",
    "Usually Noise is assumed to be 0 as it is impossible to estimated it.\n",
    "As a consequence, ometimes Variance is defined as $L(A)-Bias(A)$.\n",
    "\n",
    "In every work, $L(A)$ should be equal to $Bias(A) + Variance(A)$. Is this true for NDCG? probably not ...\n",
    "\n",
    "In principle, we may provide just the Loss and the Bias, and let the user compute variance by difference.\n",
    "\n",
    "We might probalby solve the ranking problem, by saying that L is not 1-NDCG, but rather (1-NDCG)^2"
   ]
  },
  {
   "cell_type": "code",
   "execution_count": 1,
   "metadata": {},
   "outputs": [],
   "source": [
    "from rankeval.core.dataset import Dataset\n",
    "from rankeval.core.metrics import NDCG\n",
    "from rankeval.core.metrics.rmse import RMSE\n",
    "from rankeval.core.metrics.metric import Metric\n",
    "import numpy as np\n",
    "import math\n",
    "import lightgbm\n",
    "from __future__ import print_function\n",
    "\n",
    "%matplotlib inline\n",
    "from matplotlib import pyplot as plt"
   ]
  },
  {
   "cell_type": "code",
   "execution_count": 2,
   "metadata": {
    "collapsed": true
   },
   "outputs": [],
   "source": [
    "dataset = Dataset.load(\"/Users/claudio/docs/LAVORO/coding/ltr/QuickScorer/debug_data/msn1.fold1.test.5k.txt\", name=\"msn1\")"
   ]
  },
  {
   "cell_type": "code",
   "execution_count": 15,
   "metadata": {},
   "outputs": [],
   "source": [
    "def lgbm_algo(train_X, train_Y, train_q, test_X):\n",
    "    params = {'num_leaves': 128, 'objective':'lambdarank',\n",
    "             'learning_rate': 0.01, 'max_bin': 1024}\n",
    "\n",
    "    training = lightgbm.Dataset(data=train_X, label=train_Y, group=train_q)\n",
    "    \n",
    "    bst = lightgbm.train(params, training, num_boost_round=10)\n",
    "    \n",
    "    # check the number of trees and other params is correct\n",
    "    # print ( len(bst.dump_model()[u'tree_info']) )\n",
    "    \n",
    "    return bst.predict(test_X)\n",
    "\n",
    "\n",
    "def kfold_scoring(dataset, k, algo, verbose=False):\n",
    "    scores = np.zeros(dataset.n_instances, dtype=np.float32)\n",
    "    q_lens = dataset.query_ids[1:]-dataset.query_ids[:-1]\n",
    "    # shuffle queries\n",
    "    shuffled_qid = np.random.permutation(dataset.n_queries)\n",
    "    chunk_size = int(math.ceil(dataset.n_queries/float(k)))\n",
    "    for f,p in enumerate(range(0,dataset.n_queries,chunk_size)):\n",
    "        if verbose: print (\" - Processing fold\", f, \"of\", k)\n",
    "        # p-th fold is used for testing\n",
    "        test_rows = np.zeros(dataset.n_instances, dtype=np.bool)\n",
    "        for q in shuffled_qid[p: p+chunk_size]:\n",
    "            test_rows[ dataset.query_ids[q]:dataset.query_ids[q+1] ] = True\n",
    "        # other folds are used for training\n",
    "        train_rows = np.logical_not(test_rows)\n",
    "        train_q = np.ones(dataset.n_queries, dtype=np.bool)\n",
    "        train_q[shuffled_qid[p: p+chunk_size]] = False\n",
    "        # get algorithm predictions\n",
    "        fold_scores = algo(dataset.X[train_rows], dataset.y[train_rows], q_lens[train_q],\n",
    "                           dataset.X[test_rows])\n",
    "        # update scores for the current fold\n",
    "        scores[test_rows] = fold_scores\n",
    "        \n",
    "    return scores\n",
    "            \n",
    "def multi_kfold_scoring(dataset, algo, L=10, k=2):\n",
    "    scores = np.zeros( (dataset.n_instances, L), dtype=np.float32)\n",
    "\n",
    "    for l in range(L):\n",
    "        print (\" + Dataset scoring\", l, \"of\", L)\n",
    "        scores[:,l] = kfold_scoring(dataset, k, algo)\n",
    "        # remove this\n",
    "        assert len(np.where(scores[:,l]==0)[0]) == 0\n",
    "    \n",
    "    return scores\n",
    "\n",
    "def bias_variance(dataset, algo, metric=\"mse\", L=10, k=2):\n",
    "    if isinstance(metric, str):\n",
    "        assert metric==\"mse\"\n",
    "    else:\n",
    "        assert isinstance(metric, Metric)\n",
    "        \n",
    "    scores = multi_kfold_scoring(dataset, algo=algo, L=L, k=5)\n",
    "    \n",
    "    avg_error = 0.\n",
    "    avg_bias = 0.\n",
    "    avg_var = 0.\n",
    "    if isinstance(metric, Metric):\n",
    "        # mse over metric\n",
    "        # not exactly domingos paper\n",
    "        q_scores = np.empty((dataset.n_queries, L), dtype=np.float32) \n",
    "        for i in range(L):\n",
    "            q_scores[:,i] = metric.eval(dataset=dataset, y_pred=scores[:,i])[1]            \n",
    "        avg_error = np.mean( (q_scores-1.)**2. )\n",
    "        avg_pred  = np.mean(q_scores, axis=1)\n",
    "        avg_bias  = np.mean((avg_pred - 1.)**2.)\n",
    "        avg_var   = np.mean( (q_scores-avg_pred.reshape((-1,1)))**2. )\n",
    "        \n",
    "        plt.figure()\n",
    "        plt.matshow(q_scores)\n",
    "    else:\n",
    "        # mse\n",
    "        avg_error = np.mean( (scores-dataset.y.reshape((-1,1)))**2. )\n",
    "        avg_pred  = np.mean(scores, axis=1)\n",
    "        avg_bias  = np.mean((avg_pred - dataset.y)**2.)\n",
    "        avg_var   = np.mean( (scores-avg_pred.reshape((-1,1)))**2. )\n",
    "    \n",
    "    return avg_error, avg_bias, avg_var\n",
    "\n",
    "    \n"
   ]
  },
  {
   "cell_type": "code",
   "execution_count": 14,
   "metadata": {},
   "outputs": [
    {
     "name": "stdout",
     "output_type": "stream",
     "text": [
      " + Dataset scoring 0 of 10\n",
      " + Dataset scoring 1 of 10\n",
      " + Dataset scoring 2 of 10\n",
      " + Dataset scoring 3 of 10\n",
      " + Dataset scoring 4 of 10\n",
      " + Dataset scoring 5 of 10\n",
      " + Dataset scoring 6 of 10\n",
      " + Dataset scoring 7 of 10\n",
      " + Dataset scoring 8 of 10\n",
      " + Dataset scoring 9 of 10\n"
     ]
    },
    {
     "data": {
      "text/plain": [
       "(0.42298207, 0.41451901, 0.0084630894)"
      ]
     },
     "execution_count": 14,
     "metadata": {},
     "output_type": "execute_result"
    },
    {
     "data": {
      "text/plain": [
       "<matplotlib.figure.Figure at 0x110961d50>"
      ]
     },
     "metadata": {},
     "output_type": "display_data"
    },
    {
     "data": {
      "image/png": "[encoded data removed]",
      "text/plain": [
       "<matplotlib.figure.Figure at 0x191713890>"
      ]
     },
     "metadata": {},
     "output_type": "display_data"
    }
   ],
   "source": [
    "bias_variance(dataset, algo=lgbm_algo, metric=NDCG(cutoff=10), L=10, k=2)"
   ]
  },
  {
   "cell_type": "code",
   "execution_count": 16,
   "metadata": {},
   "outputs": [
    {
     "name": "stdout",
     "output_type": "stream",
     "text": [
      " + Dataset scoring 0 of 10\n",
      " + Dataset scoring 1 of 10\n",
      " + Dataset scoring 2 of 10\n",
      " + Dataset scoring 3 of 10\n",
      " + Dataset scoring 4 of 10\n",
      " + Dataset scoring 5 of 10\n",
      " + Dataset scoring 6 of 10\n",
      " + Dataset scoring 7 of 10\n",
      " + Dataset scoring 8 of 10\n",
      " + Dataset scoring 9 of 10\n"
     ]
    },
    {
     "data": {
      "text/plain": [
       "(0.44634604, 0.43431166, 0.012034399)"
      ]
     },
     "execution_count": 16,
     "metadata": {},
     "output_type": "execute_result"
    },
    {
     "data": {
      "text/plain": [
       "<matplotlib.figure.Figure at 0x110a14ed0>"
      ]
     },
     "metadata": {},
     "output_type": "display_data"
    },
    {
     "data": {
      "image/png": "[encoded data removed]",
      "text/plain": [
       "<matplotlib.figure.Figure at 0x1917d7050>"
      ]
     },
     "metadata": {},
     "output_type": "display_data"
    }
   ],
   "source": [
    "bias_variance(dataset, algo=lgbm_algo, metric=NDCG(cutoff=10), L=10, k=2)"
   ]
  },
  {
   "cell_type": "code",
   "execution_count": 20,
   "metadata": {},
   "outputs": [
    {
     "data": {
      "text/plain": [
       "0.46499739800515272"
      ]
     },
     "execution_count": 20,
     "metadata": {},
     "output_type": "execute_result"
    }
   ],
   "source": [
    "scores = kfold_scoring(dataset, 2, lgbm_algo)\n",
    "NDCG(cutoff=10).eval(dataset, scores)[0]\n",
    "(1.-NDCG(cutoff=10).eval(dataset, scores)[0])**2"
   ]
  },
  {
   "cell_type": "code",
   "execution_count": null,
   "metadata": {
    "collapsed": true
   },
   "outputs": [],
   "source": []
  }
 ],
 "metadata": {
  "kernelspec": {
   "display_name": "Python 2",
   "language": "python",
   "name": "python2"
  },
  "language_info": {
   "codemirror_mode": {
    "name": "ipython",
    "version": 2
   },
   "file_extension": ".py",
   "mimetype": "text/x-python",
   "name": "python",
   "nbconvert_exporter": "python",
   "pygments_lexer": "ipython2",
   "version": "2.7.13"
  }
 },
 "nbformat": 4,
 "nbformat_minor": 2
}
