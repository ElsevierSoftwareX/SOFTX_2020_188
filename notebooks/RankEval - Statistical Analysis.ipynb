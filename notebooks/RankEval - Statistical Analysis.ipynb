{
 "cells": [
  {
   "cell_type": "markdown",
   "metadata": {},
   "source": [
    "# Statistical Analysis\n",
    "\n",
    "**RankEval** provides the following statistical analysis tools: *i)* Fisher's randomization test for statistical significance, and *ii)* bias/variance decomposition of the error."
   ]
  },
  {
   "cell_type": "code",
   "execution_count": 1,
   "metadata": {},
   "outputs": [],
   "source": [
    "# import common libraries\n",
    "%load_ext autoreload\n",
    "%autoreload 2\n",
    "%matplotlib inline\n",
    "\n",
    "import numpy as np\n",
    "import math\n",
    "from matplotlib import pyplot as plt"
   ]
  },
  {
   "cell_type": "markdown",
   "metadata": {},
   "source": [
    "## Statistical Significance\n",
    "\n",
    "According to the work by *M.D. Smucker, J. Allan, B. Carterette, \"A Comparison of Statistical Significance Tests for Information Retrieval Evaluation\", CIKM 2007*, **Fisher's randomization test** is the most appropriate statistical test to evaluate wheter two rankers differ significantly.\n",
    "\n",
    "We first shortly describe the test. The null hypthesis is that the two given rankers A and B are indentical: an underlying ranker R is asked to produce two rankings for each given query  and these two rankings are randomly labeled as ranker A or ranker B. The goal of the test is to measure the probability that the observed performance gap between ranker A and B is due to a random labeling.\n",
    "\n",
    "Under the null hypthesis, every permutation of the labelling is equally probable. If we enumerate all the possible A-B labelings, and we measure the corresponding quality gap, we have that:\n",
    " - the *one-sided p-value* is given by the fraction of times the quality difference is larger than the originally observed difference;\n",
    " - the *two-sided p-value* is given by the fraction of times the resulting quality *absolute difference* is larger than the originally observed difference.\n",
    "\n",
    "Since the number of permutations is exponential in the number of queries, a large number of random permutations is used."
   ]
  },
  {
   "cell_type": "markdown",
   "metadata": {},
   "source": [
    "##### Import RankEval statistical significance tools"
   ]
  },
  {
   "cell_type": "code",
   "execution_count": 2,
   "metadata": {},
   "outputs": [],
   "source": [
    "from rankeval.core.model import RTEnsemble\n",
    "from rankeval.core.dataset import Dataset\n",
    "from rankeval.core.metrics import NDCG\n",
    "from rankeval.core.metrics import Precision\n",
    "from rankeval.analysis.statistical import statistical_significance"
   ]
  },
  {
   "cell_type": "markdown",
   "metadata": {},
   "source": [
    "##### Load models and data from file"
   ]
  },
  {
   "cell_type": "code",
   "execution_count": 3,
   "metadata": {},
   "outputs": [],
   "source": [
    "dataset_file = \"/Users/claudio/docs/LAVORO/coding/ltr/QuickScorer/debug_data/msn1.fold1.test.5k.txt\"\n",
    "model_file = \"/Users/claudio/docs/LAVORO/coding/ltr/QuickScorer/debug_data/model.lmart.msn1.xml\"\n",
    "model_a = RTEnsemble(model_file, name=\"L-Mart.100T\")\n",
    "model_b = RTEnsemble(model_file, name=\"L-Mart.100T\")\n",
    "dataset_a = Dataset.load(dataset_file, name=\"msn1\")\n",
    "dataset_b = Dataset.load(dataset_file, name=\"msn1\")"
   ]
  },
  {
   "cell_type": "markdown",
   "metadata": {},
   "source": [
    "##### Run the Fisher's Randomization test\n",
    "\n",
    "The `statistical_significance` test between a two rankers can be run on a list of datasets and for a list of IR quality metrics. The function returns both the one-sided and two-sided p-values."
   ]
  },
  {
   "cell_type": "code",
   "execution_count": 4,
   "metadata": {},
   "outputs": [],
   "source": [
    "stat_sig = statistical_significance(datasets=[dataset_a, dataset_b],\n",
    "                                    model_a=model_a, model_b=model_b, \n",
    "                                    metrics=[NDCG(cutoff=10), NDCG(cutoff=50), Precision(cutoff=10)],\n",
    "                                    n_perm=100000 )"
   ]
  },
  {
   "cell_type": "code",
   "execution_count": 13,
   "metadata": {},
   "outputs": [
    {
     "name": "stdout",
     "output_type": "stream",
     "text": [
      "<xarray.DataArray 'Statistical Significance' (dataset: 2, metric: 3, 1-2 sided: 2)>\n",
      "array([[[ 1.,  1.],\n",
      "        [ 1.,  1.],\n",
      "        [ 1.,  1.]],\n",
      "\n",
      "       [[ 1.,  1.],\n",
      "        [ 1.,  1.],\n",
      "        [ 1.,  1.]]], dtype=float32)\n",
      "Coordinates:\n",
      "  * dataset    (dataset) object msn1 msn1\n",
      "  * metric     (metric) object NDCG@10 NDCG@50 Precision@10[>=1]\n",
      "  * 1-2 sided  (1-2 sided) |S9 'one-sided' 'two-sided'\n",
      "<xarray.DataArray 'Statistical Significance' (metric: 3, 1-2 sided: 2)>\n",
      "array([[ 1.,  1.],\n",
      "       [ 1.,  1.],\n",
      "       [ 1.,  1.]], dtype=float32)\n",
      "Coordinates:\n",
      "    dataset    object msn1\n",
      "  * metric     (metric) object NDCG@10 NDCG@50 Precision@10[>=1]\n",
      "  * 1-2 sided  (1-2 sided) |S9 'one-sided' 'two-sided'\n"
     ]
    }
   ],
   "source": [
    "print stat_sig\n",
    "print stat_sig.sel(dataset=dataset_a)"
   ]
  },
  {
   "cell_type": "markdown",
   "metadata": {},
   "source": [
    "# Bias-Variance\n",
    "\n",
    "... on going ...\n",
    "\n",
    "by reading a few papers [cite] the methodology is as follows...\n",
    "\n",
    "The Loss of a Algorithm (not of a model!) can be decomposed in:\n",
    "$$L(A) = Bias(A) + Variance(A) + Noise(A)$$\n",
    "where:\n",
    " - Bias is how far is the model from the prediction\n",
    " - Variance is how sensitive (how changes) the prediction with different training sets (overfitting)\n",
    " - Noise is the irreducible error in the dataset (learner independent)\n",
    "\n",
    "Given a dataset $D$, given a number of iteration $l$, we need to produce $l$ score predictions\n",
    "for each element in $D$ with $l$ different models. If the loss function $L$ is MSE then everything is clear.\n",
    "If the loss function is NDCG, no previous work.\n",
    "\n",
    "  0. Shuffle $D$ and create two halves $D_1$ and $D_2$ (this should be query-aware with NDCG)\n",
    "  0. learn a model from $D_1$ and apply it to $D_2$\n",
    "  0. learn a model from $D_2$ and apply it to $D_1$\n",
    "  0. store the scores produced so far\n",
    "  0. Repeat all of the above $l$ times\n",
    "  0. for each document/query compute the average prediction by averagin the $l$ stored so far (for ranking this is actually not defined, we may average predictions and then rank accordingly)\n",
    "  0. Bias of a query/document is computed as the loss between the ideal prediction and the average prediction\n",
    "  0. Average above for every query/document to obtain final Bias\n",
    "  0. Variance of a query/document is computed as the average loss between the average prediction and every of the $l$ predictions\n",
    "  0. Average above for every query/document to obtain final Variance\n",
    " \n",
    "Usually Noise is assumed to be 0 as it is impossible to estimated it.\n",
    "As a consequence, ometimes Variance is defined as $L(A)-Bias(A)$.\n",
    "\n",
    "In every work, $L(A)$ should be equal to $Bias(A) + Variance(A)$. Is this true for NDCG? probably not ...\n",
    "\n",
    "In principle, we may provide just the Loss and the Bias, and let the user compute variance by difference.\n",
    "\n",
    "We might probalby solve the ranking problem, by saying that L is not 1-NDCG, but rather (1-NDCG)^2"
   ]
  },
  {
   "cell_type": "code",
   "execution_count": 1,
   "metadata": {
    "collapsed": true
   },
   "outputs": [],
   "source": [
    "%load_ext autoreload\n",
    "%autoreload 2\n",
    "%matplotlib inline\n",
    "\n",
    "from rankeval.core.dataset import Dataset\n",
    "from rankeval.core.metrics import NDCG\n",
    "from rankeval.core.metrics.rmse import RMSE\n",
    "from rankeval.core.metrics.metric import Metric\n",
    "from rankeval.analysis.statistical import bias_variance\n",
    "import numpy as np\n",
    "import math\n",
    "import lightgbm\n",
    "#from __future__ import print_function\n",
    "\n",
    "%matplotlib inline\n",
    "from matplotlib import pyplot as plt"
   ]
  },
  {
   "cell_type": "code",
   "execution_count": 2,
   "metadata": {
    "collapsed": true
   },
   "outputs": [],
   "source": [
    "dataset = Dataset.load(\"/Users/claudio/docs/LAVORO/coding/ltr/QuickScorer/debug_data/msn1.fold1.test.5k.txt\", name=\"msn1\")"
   ]
  },
  {
   "cell_type": "code",
   "execution_count": 3,
   "metadata": {
    "collapsed": true
   },
   "outputs": [],
   "source": [
    "def lgbm_algo(train_X, train_Y, train_q, test_X):\n",
    "    params = {'num_leaves': 128, 'objective':'lambdarank',\n",
    "             'learning_rate': 0.01, 'max_bin': 1024}\n",
    "\n",
    "    training = lightgbm.Dataset(data=train_X, label=train_Y, group=train_q)\n",
    "    \n",
    "    bst = lightgbm.train(params, training, num_boost_round=10)\n",
    "    \n",
    "    # check the number of trees and other params is correct\n",
    "    # print ( len(bst.dump_model()[u'tree_info']) )\n",
    "    \n",
    "    return bst.predict(test_X)"
   ]
  },
  {
   "cell_type": "code",
   "execution_count": 15,
   "metadata": {
    "scrolled": false
   },
   "outputs": [
    {
     "name": "stdout",
     "output_type": "stream",
     "text": [
      " + Dataset scoring 0 of 5\n",
      " - Processing fold 0 of 3\n",
      " - Processing fold 1 of 3\n",
      " - Processing fold 2 of 3\n",
      " + Dataset scoring 1 of 5\n",
      " - Processing fold 0 of 3\n",
      " - Processing fold 1 of 3\n",
      " - Processing fold 2 of 3\n",
      " + Dataset scoring 2 of 5\n",
      " - Processing fold 0 of 3\n",
      " - Processing fold 1 of 3\n",
      " - Processing fold 2 of 3\n",
      " + Dataset scoring 3 of 5\n",
      " - Processing fold 0 of 3\n",
      " - Processing fold 1 of 3\n",
      " - Processing fold 2 of 3\n",
      " + Dataset scoring 4 of 5\n",
      " - Processing fold 0 of 3\n",
      " - Processing fold 1 of 3\n",
      " - Processing fold 2 of 3\n"
     ]
    },
    {
     "data": {
      "text/plain": [
       "(1.0553246, 1.0552039, 0.00012066727)"
      ]
     },
     "execution_count": 15,
     "metadata": {},
     "output_type": "execute_result"
    }
   ],
   "source": [
    "bias_variance(dataset, algo=lgbm_algo, metric=\"mse\", L=5, k=3, verbose=2)"
   ]
  },
  {
   "cell_type": "code",
   "execution_count": 10,
   "metadata": {},
   "outputs": [
    {
     "name": "stdout",
     "output_type": "stream",
     "text": [
      "(' + Dataset scoring', 0, 'of', 10)\n",
      "(' + Dataset scoring', 1, 'of', 10)\n",
      "(' + Dataset scoring', 2, 'of', 10)\n",
      "(' + Dataset scoring', 3, 'of', 10)\n",
      "(' + Dataset scoring', 4, 'of', 10)\n",
      "(' + Dataset scoring', 5, 'of', 10)\n",
      "(' + Dataset scoring', 6, 'of', 10)\n",
      "(' + Dataset scoring', 7, 'of', 10)\n",
      "(' + Dataset scoring', 8, 'of', 10)\n",
      "(' + Dataset scoring', 9, 'of', 10)\n"
     ]
    }
   ],
   "source": [
    "a = bias_variance(dataset, algo=lgbm_algo, metric=NDCG(cutoff=10), L=10, k=2)"
   ]
  },
  {
   "cell_type": "code",
   "execution_count": 8,
   "metadata": {},
   "outputs": [
    {
     "name": "stdout",
     "output_type": "stream",
     "text": [
      "(0.42988306, 0.41835901, 0.011524014)\n"
     ]
    }
   ],
   "source": [
    "print (a)"
   ]
  },
  {
   "cell_type": "code",
   "execution_count": 9,
   "metadata": {
    "collapsed": true
   },
   "outputs": [],
   "source": [
    "m = NDCG(cutoff=10)"
   ]
  },
  {
   "cell_type": "code",
   "execution_count": 3,
   "metadata": {
    "collapsed": true
   },
   "outputs": [],
   "source": [
    "params = {'num_leaves': 128, #'objective':'lambdarank',\n",
    "         'learning_rate': 0.01, 'max_bin': 1024}\n",
    "\n",
    "training = lightgbm.Dataset(data=dataset.X, label=dataset.y)\n",
    "    \n",
    "bst = lightgbm.train(params, training, num_boost_round=10)\n"
   ]
  },
  {
   "cell_type": "code",
   "execution_count": 6,
   "metadata": {},
   "outputs": [
    {
     "name": "stdout",
     "output_type": "stream",
     "text": [
      "Plot model feature importances.\n",
      "\n",
      "    Parameters\n",
      "    ----------\n",
      "    booster : Booster or LGBMModel\n",
      "        Booster or LGBMModel instance\n",
      "    ax : matplotlib Axes\n",
      "        Target axes instance. If None, new figure and axes will be created.\n",
      "    height : float\n",
      "        Bar height, passed to ax.barh()\n",
      "    xlim : tuple of 2 elements\n",
      "        Tuple passed to axes.xlim()\n",
      "    ylim : tuple of 2 elements\n",
      "        Tuple passed to axes.ylim()\n",
      "    title : str\n",
      "        Axes title. Pass None to disable.\n",
      "    xlabel : str\n",
      "        X axis title label. Pass None to disable.\n",
      "    ylabel : str\n",
      "        Y axis title label. Pass None to disable.\n",
      "    importance_type : str\n",
      "        How the importance is calculated: \"split\" or \"gain\"\n",
      "        \"split\" is the number of times a feature is used in a model\n",
      "        \"gain\" is the total gain of splits which use the feature\n",
      "    max_num_features : int\n",
      "        Max number of top features displayed on plot.\n",
      "        If None or smaller than 1, all features will be displayed.\n",
      "    ignore_zero : bool\n",
      "        Ignore features with zero importance\n",
      "    figsize : tuple of 2 elements\n",
      "        Figure size\n",
      "    grid : bool\n",
      "        Whether add grid for axes\n",
      "    **kwargs :\n",
      "        Other keywords passed to ax.barh()\n",
      "\n",
      "    Returns\n",
      "    -------\n",
      "    ax : matplotlib Axes\n",
      "    \n"
     ]
    }
   ],
   "source": [
    "print lightgbm.plot_importance.__doc__\n"
   ]
  },
  {
   "cell_type": "code",
   "execution_count": 16,
   "metadata": {},
   "outputs": [
    {
     "data": {
      "text/plain": [
       "<matplotlib.axes._subplots.AxesSubplot at 0x115a55cd0>"
      ]
     },
     "execution_count": 16,
     "metadata": {},
     "output_type": "execute_result"
    },
    {
     "data": {
      "text/plain": [
       "<matplotlib.figure.Figure at 0x115a550d0>"
      ]
     },
     "metadata": {},
     "output_type": "display_data"
    },
    {
     "data": {
      "image/png": "[encoded data removed]",
      "text/plain": [
       "<matplotlib.figure.Figure at 0x1159d3810>"
      ]
     },
     "metadata": {},
     "output_type": "display_data"
    }
   ],
   "source": []
  },
  {
   "cell_type": "code",
   "execution_count": null,
   "metadata": {
    "collapsed": true
   },
   "outputs": [],
   "source": []
  }
 ],
 "metadata": {
  "kernelspec": {
   "display_name": "Python 2",
   "language": "python",
   "name": "python2"
  },
  "language_info": {
   "codemirror_mode": {
    "name": "ipython",
    "version": 2
   },
   "file_extension": ".py",
   "mimetype": "text/x-python",
   "name": "python",
   "nbconvert_exporter": "python",
   "pygments_lexer": "ipython2",
   "version": "2.7.13"
  }
 },
 "nbformat": 4,
 "nbformat_minor": 2
}
