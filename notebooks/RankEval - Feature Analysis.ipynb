{
 "cells": [
  {
   "cell_type": "markdown",
   "metadata": {},
   "source": [
    "# Feature Analysis\n",
    "\n",
    "**RankEval** provides feature analysis tools that allow to estimate the **feature importance** of a trained tree-based ensemble. This analysis can be used for feature selection to improve the estimators’ efficiency on very high-dimensional datasets. The general premise is that features can be either irrelevant or redundant, and thus they can be removed from the dataset without incurring in much loss of information.\n",
    "\n",
    "A benefit of using gradient boosting algorithms consisting of a number of binary decision trees is that it is relatively straightforward to compute feature importance scores at training time. Indeed, each decision tree is described by multiple nodes, either split or leaf nodes. Every split node is a condition on a single feature, and it is designed to split the dataset into two so that similar response values end up in the same set. Computing feature importance is thus as simple as to sum for each decision tree the amount that each split node (i.e., the feature used by the split node) improves a given performance measure. The performance measure most commonly adopted is the Gini index (purity) used to select the next split nodes at training time.\n",
    "\n",
    "RankEval implement the calculation of feature importance by *simulating* the traditional training behaviour at scoring time, i.e., with the model already fully trained. To this regard RankEval allows to compute feature importance independently of the framework used to train the model, providing insightful also for frameworks that do not support feature analysis. Moreover, the calculation of feature importance is parametric in the performance measure, allowing for fine-grained and personalized analysis."
   ]
  },
  {
   "cell_type": "code",
   "execution_count": 1,
   "metadata": {
    "collapsed": true
   },
   "outputs": [],
   "source": [
    "# set package autoreload and inline plot\n",
    "\n",
    "%load_ext autoreload\n",
    "%autoreload 2\n",
    "%matplotlib inline"
   ]
  },
  {
   "cell_type": "markdown",
   "metadata": {},
   "source": [
    "## Import RankEval statistical significance tools"
   ]
  },
  {
   "cell_type": "code",
   "execution_count": 2,
   "metadata": {
    "collapsed": true
   },
   "outputs": [],
   "source": [
    "# import libraries\n",
    "import numpy as np\n",
    "\n",
    "from rankeval.model import RTEnsemble\n",
    "from rankeval.dataset import Dataset\n",
    "from rankeval.analysis.feature import feature_importance\n",
    "from rankeval.visualization.feature import plot_feature_importance\n",
    "from rankeval.dataset.datasets_fetcher import load_dataset"
   ]
  },
  {
   "cell_type": "markdown",
   "metadata": {},
   "source": [
    "## Load Dataset using the `load_dataset` feature"
   ]
  },
  {
   "cell_type": "code",
   "execution_count": 3,
   "metadata": {},
   "outputs": [
    {
     "name": "stdout",
     "output_type": "stream",
     "text": [
      "Loading files. This may take a few minutes.\n",
      "done loading dataset!\n"
     ]
    }
   ],
   "source": [
    "# Dataset container\n",
    "dataset_container = load_dataset(dataset_name='msn10k', \n",
    "                                 fold='1', \n",
    "                                 download_if_missing=True, \n",
    "                                 force_download=False, \n",
    "                                 with_models=False)"
   ]
  },
  {
   "cell_type": "code",
   "execution_count": 4,
   "metadata": {
    "collapsed": true
   },
   "outputs": [],
   "source": [
    "# Remapping Datasets Names\n",
    "\n",
    "msn_train = dataset_container.train_dataset\n",
    "msn_validation = dataset_container.validation_dataset\n",
    "msn_test = dataset_container.test_dataset"
   ]
  },
  {
   "cell_type": "markdown",
   "metadata": {},
   "source": [
    "## Train LightGBM model with All Features"
   ]
  },
  {
   "cell_type": "markdown",
   "metadata": {},
   "source": [
    "Create a metric for computing the performance of the model"
   ]
  },
  {
   "cell_type": "code",
   "execution_count": 5,
   "metadata": {
    "collapsed": true
   },
   "outputs": [],
   "source": [
    "from rankeval.metrics import NDCG\n",
    "\n",
    "ndcg_10 = NDCG(cutoff=10, no_relevant_results=0.5, implementation='exp')"
   ]
  },
  {
   "cell_type": "code",
   "execution_count": 15,
   "metadata": {
    "collapsed": true
   },
   "outputs": [],
   "source": [
    "import lightgbm\n",
    "import os\n",
    "\n",
    "def lightGBM_algo(trees, leaves, dataset):\n",
    "\n",
    "    query_len = np.diff(dataset.query_ids)\n",
    "    lgbm_dataset = lightgbm.Dataset(data=dataset.X, label=dataset.y, group=query_len)\n",
    "    \n",
    "    # specify parameters via map \n",
    "    params = {'num_leaves': leaves, \n",
    "              'objective':'lambdarank',\n",
    "              'learning_rate': 0.01,\n",
    "              'use_missing': False}\n",
    "\n",
    "    lgbm_model = lightgbm.train(params, lgbm_dataset, num_boost_round=trees)\n",
    "    \n",
    "    filename = 'lgbm.model'\n",
    "    rankeval_model = None\n",
    "    try:\n",
    "        lgbm_model.save_model(filename=filename)\n",
    "        rankeval_model = RTEnsemble(filename, name=\"LightGBM model\", format=\"LightGBM\")\n",
    "    finally:\n",
    "        os.remove(filename)\n",
    "    \n",
    "    return rankeval_model"
   ]
  },
  {
   "cell_type": "markdown",
   "metadata": {},
   "source": [
    "Train LightGBM model with all features"
   ]
  },
  {
   "cell_type": "code",
   "execution_count": 24,
   "metadata": {
    "collapsed": true
   },
   "outputs": [],
   "source": [
    "msn_lgbm_lmart_1Ktrees_model = lightGBM_algo(trees=1000,\n",
    "                                             leaves=32,\n",
    "                                             dataset=msn_train)"
   ]
  },
  {
   "cell_type": "markdown",
   "metadata": {},
   "source": [
    "LightGBM model using all features has a metric score of:"
   ]
  },
  {
   "cell_type": "code",
   "execution_count": 25,
   "metadata": {},
   "outputs": [
    {
     "name": "stdout",
     "output_type": "stream",
     "text": [
      "NDCG@10: 0.495\n"
     ]
    }
   ],
   "source": [
    "y_pred = msn_lgbm_lmart_1Ktrees_model.score(msn_train)\n",
    "print \"%s: %.3f\" % (ndcg_10, ndcg_10.eval(msn_train, y_pred)[0])"
   ]
  },
  {
   "cell_type": "markdown",
   "metadata": {},
   "source": [
    "### Compute Feature Analysis\n",
    "\n",
    "The `feature_importance` analysis is executed on a single dataset and model, using a given metric for computing the performance gain at each split node. By default the analysis uses MSE as performance measure (and only in this case the analysis is very efficient since it is realized using low-level cython code). The function returns a xarray.DataArray with the value of `feature_importance` and `feature_count` (the former summing performance gain related to a given feature, the latter counting the number of times a feature is used in a split node) for each feature."
   ]
  },
  {
   "cell_type": "code",
   "execution_count": 26,
   "metadata": {},
   "outputs": [
    {
     "data": {
      "text/html": [
       "<div>\n",
       "<style>\n",
       "    .dataframe thead tr:only-child th {\n",
       "        text-align: right;\n",
       "    }\n",
       "\n",
       "    .dataframe thead th {\n",
       "        text-align: left;\n",
       "    }\n",
       "\n",
       "    .dataframe tbody tr th {\n",
       "        vertical-align: top;\n",
       "    }\n",
       "</style>\n",
       "<table border=\"1\" class=\"dataframe\">\n",
       "  <thead>\n",
       "    <tr style=\"text-align: right;\">\n",
       "      <th></th>\n",
       "      <th></th>\n",
       "      <th>Feature Importance Analysis</th>\n",
       "    </tr>\n",
       "    <tr>\n",
       "      <th>feature</th>\n",
       "      <th>type</th>\n",
       "      <th></th>\n",
       "    </tr>\n",
       "  </thead>\n",
       "  <tbody>\n",
       "    <tr>\n",
       "      <th rowspan=\"2\" valign=\"top\">0</th>\n",
       "      <th>importance</th>\n",
       "      <td>0.000012</td>\n",
       "    </tr>\n",
       "    <tr>\n",
       "      <th>count</th>\n",
       "      <td>40.000000</td>\n",
       "    </tr>\n",
       "    <tr>\n",
       "      <th rowspan=\"2\" valign=\"top\">1</th>\n",
       "      <th>importance</th>\n",
       "      <td>0.000272</td>\n",
       "    </tr>\n",
       "    <tr>\n",
       "      <th>count</th>\n",
       "      <td>84.000000</td>\n",
       "    </tr>\n",
       "    <tr>\n",
       "      <th rowspan=\"2\" valign=\"top\">2</th>\n",
       "      <th>importance</th>\n",
       "      <td>0.000740</td>\n",
       "    </tr>\n",
       "    <tr>\n",
       "      <th>count</th>\n",
       "      <td>373.000000</td>\n",
       "    </tr>\n",
       "    <tr>\n",
       "      <th rowspan=\"2\" valign=\"top\">3</th>\n",
       "      <th>importance</th>\n",
       "      <td>0.000018</td>\n",
       "    </tr>\n",
       "    <tr>\n",
       "      <th>count</th>\n",
       "      <td>7.000000</td>\n",
       "    </tr>\n",
       "    <tr>\n",
       "      <th rowspan=\"2\" valign=\"top\">4</th>\n",
       "      <th>importance</th>\n",
       "      <td>0.000010</td>\n",
       "    </tr>\n",
       "    <tr>\n",
       "      <th>count</th>\n",
       "      <td>18.000000</td>\n",
       "    </tr>\n",
       "    <tr>\n",
       "      <th rowspan=\"2\" valign=\"top\">5</th>\n",
       "      <th>importance</th>\n",
       "      <td>0.000046</td>\n",
       "    </tr>\n",
       "    <tr>\n",
       "      <th>count</th>\n",
       "      <td>104.000000</td>\n",
       "    </tr>\n",
       "    <tr>\n",
       "      <th rowspan=\"2\" valign=\"top\">6</th>\n",
       "      <th>importance</th>\n",
       "      <td>0.000396</td>\n",
       "    </tr>\n",
       "    <tr>\n",
       "      <th>count</th>\n",
       "      <td>88.000000</td>\n",
       "    </tr>\n",
       "    <tr>\n",
       "      <th rowspan=\"2\" valign=\"top\">7</th>\n",
       "      <th>importance</th>\n",
       "      <td>0.000170</td>\n",
       "    </tr>\n",
       "    <tr>\n",
       "      <th>count</th>\n",
       "      <td>248.000000</td>\n",
       "    </tr>\n",
       "    <tr>\n",
       "      <th rowspan=\"2\" valign=\"top\">8</th>\n",
       "      <th>importance</th>\n",
       "      <td>0.000036</td>\n",
       "    </tr>\n",
       "    <tr>\n",
       "      <th>count</th>\n",
       "      <td>57.000000</td>\n",
       "    </tr>\n",
       "    <tr>\n",
       "      <th rowspan=\"2\" valign=\"top\">9</th>\n",
       "      <th>importance</th>\n",
       "      <td>0.000046</td>\n",
       "    </tr>\n",
       "    <tr>\n",
       "      <th>count</th>\n",
       "      <td>48.000000</td>\n",
       "    </tr>\n",
       "    <tr>\n",
       "      <th rowspan=\"2\" valign=\"top\">10</th>\n",
       "      <th>importance</th>\n",
       "      <td>0.001021</td>\n",
       "    </tr>\n",
       "    <tr>\n",
       "      <th>count</th>\n",
       "      <td>850.000000</td>\n",
       "    </tr>\n",
       "    <tr>\n",
       "      <th rowspan=\"2\" valign=\"top\">11</th>\n",
       "      <th>importance</th>\n",
       "      <td>0.000357</td>\n",
       "    </tr>\n",
       "    <tr>\n",
       "      <th>count</th>\n",
       "      <td>139.000000</td>\n",
       "    </tr>\n",
       "    <tr>\n",
       "      <th rowspan=\"2\" valign=\"top\">12</th>\n",
       "      <th>importance</th>\n",
       "      <td>0.000728</td>\n",
       "    </tr>\n",
       "    <tr>\n",
       "      <th>count</th>\n",
       "      <td>193.000000</td>\n",
       "    </tr>\n",
       "    <tr>\n",
       "      <th rowspan=\"2\" valign=\"top\">13</th>\n",
       "      <th>importance</th>\n",
       "      <td>0.002690</td>\n",
       "    </tr>\n",
       "    <tr>\n",
       "      <th>count</th>\n",
       "      <td>1335.000000</td>\n",
       "    </tr>\n",
       "    <tr>\n",
       "      <th rowspan=\"2\" valign=\"top\">14</th>\n",
       "      <th>importance</th>\n",
       "      <td>0.004862</td>\n",
       "    </tr>\n",
       "    <tr>\n",
       "      <th>count</th>\n",
       "      <td>882.000000</td>\n",
       "    </tr>\n",
       "    <tr>\n",
       "      <th>...</th>\n",
       "      <th>...</th>\n",
       "      <td>...</td>\n",
       "    </tr>\n",
       "    <tr>\n",
       "      <th rowspan=\"2\" valign=\"top\">121</th>\n",
       "      <th>importance</th>\n",
       "      <td>0.000312</td>\n",
       "    </tr>\n",
       "    <tr>\n",
       "      <th>count</th>\n",
       "      <td>187.000000</td>\n",
       "    </tr>\n",
       "    <tr>\n",
       "      <th rowspan=\"2\" valign=\"top\">122</th>\n",
       "      <th>importance</th>\n",
       "      <td>0.012714</td>\n",
       "    </tr>\n",
       "    <tr>\n",
       "      <th>count</th>\n",
       "      <td>304.000000</td>\n",
       "    </tr>\n",
       "    <tr>\n",
       "      <th rowspan=\"2\" valign=\"top\">123</th>\n",
       "      <th>importance</th>\n",
       "      <td>0.001327</td>\n",
       "    </tr>\n",
       "    <tr>\n",
       "      <th>count</th>\n",
       "      <td>162.000000</td>\n",
       "    </tr>\n",
       "    <tr>\n",
       "      <th rowspan=\"2\" valign=\"top\">124</th>\n",
       "      <th>importance</th>\n",
       "      <td>0.000383</td>\n",
       "    </tr>\n",
       "    <tr>\n",
       "      <th>count</th>\n",
       "      <td>193.000000</td>\n",
       "    </tr>\n",
       "    <tr>\n",
       "      <th rowspan=\"2\" valign=\"top\">125</th>\n",
       "      <th>importance</th>\n",
       "      <td>0.002108</td>\n",
       "    </tr>\n",
       "    <tr>\n",
       "      <th>count</th>\n",
       "      <td>845.000000</td>\n",
       "    </tr>\n",
       "    <tr>\n",
       "      <th rowspan=\"2\" valign=\"top\">126</th>\n",
       "      <th>importance</th>\n",
       "      <td>0.002376</td>\n",
       "    </tr>\n",
       "    <tr>\n",
       "      <th>count</th>\n",
       "      <td>1349.000000</td>\n",
       "    </tr>\n",
       "    <tr>\n",
       "      <th rowspan=\"2\" valign=\"top\">127</th>\n",
       "      <th>importance</th>\n",
       "      <td>0.001497</td>\n",
       "    </tr>\n",
       "    <tr>\n",
       "      <th>count</th>\n",
       "      <td>843.000000</td>\n",
       "    </tr>\n",
       "    <tr>\n",
       "      <th rowspan=\"2\" valign=\"top\">128</th>\n",
       "      <th>importance</th>\n",
       "      <td>0.005861</td>\n",
       "    </tr>\n",
       "    <tr>\n",
       "      <th>count</th>\n",
       "      <td>1791.000000</td>\n",
       "    </tr>\n",
       "    <tr>\n",
       "      <th rowspan=\"2\" valign=\"top\">129</th>\n",
       "      <th>importance</th>\n",
       "      <td>0.004005</td>\n",
       "    </tr>\n",
       "    <tr>\n",
       "      <th>count</th>\n",
       "      <td>1678.000000</td>\n",
       "    </tr>\n",
       "    <tr>\n",
       "      <th rowspan=\"2\" valign=\"top\">130</th>\n",
       "      <th>importance</th>\n",
       "      <td>0.002885</td>\n",
       "    </tr>\n",
       "    <tr>\n",
       "      <th>count</th>\n",
       "      <td>1100.000000</td>\n",
       "    </tr>\n",
       "    <tr>\n",
       "      <th rowspan=\"2\" valign=\"top\">131</th>\n",
       "      <th>importance</th>\n",
       "      <td>0.000690</td>\n",
       "    </tr>\n",
       "    <tr>\n",
       "      <th>count</th>\n",
       "      <td>374.000000</td>\n",
       "    </tr>\n",
       "    <tr>\n",
       "      <th rowspan=\"2\" valign=\"top\">132</th>\n",
       "      <th>importance</th>\n",
       "      <td>0.002688</td>\n",
       "    </tr>\n",
       "    <tr>\n",
       "      <th>count</th>\n",
       "      <td>1841.000000</td>\n",
       "    </tr>\n",
       "    <tr>\n",
       "      <th rowspan=\"2\" valign=\"top\">133</th>\n",
       "      <th>importance</th>\n",
       "      <td>0.020894</td>\n",
       "    </tr>\n",
       "    <tr>\n",
       "      <th>count</th>\n",
       "      <td>959.000000</td>\n",
       "    </tr>\n",
       "    <tr>\n",
       "      <th rowspan=\"2\" valign=\"top\">134</th>\n",
       "      <th>importance</th>\n",
       "      <td>0.002972</td>\n",
       "    </tr>\n",
       "    <tr>\n",
       "      <th>count</th>\n",
       "      <td>1284.000000</td>\n",
       "    </tr>\n",
       "    <tr>\n",
       "      <th rowspan=\"2\" valign=\"top\">135</th>\n",
       "      <th>importance</th>\n",
       "      <td>0.000500</td>\n",
       "    </tr>\n",
       "    <tr>\n",
       "      <th>count</th>\n",
       "      <td>482.000000</td>\n",
       "    </tr>\n",
       "  </tbody>\n",
       "</table>\n",
       "<p>272 rows × 1 columns</p>\n",
       "</div>"
      ],
      "text/plain": [
       "                    Feature Importance Analysis\n",
       "feature type                                   \n",
       "0       importance                     0.000012\n",
       "        count                         40.000000\n",
       "1       importance                     0.000272\n",
       "        count                         84.000000\n",
       "2       importance                     0.000740\n",
       "        count                        373.000000\n",
       "3       importance                     0.000018\n",
       "        count                          7.000000\n",
       "4       importance                     0.000010\n",
       "        count                         18.000000\n",
       "5       importance                     0.000046\n",
       "        count                        104.000000\n",
       "6       importance                     0.000396\n",
       "        count                         88.000000\n",
       "7       importance                     0.000170\n",
       "        count                        248.000000\n",
       "8       importance                     0.000036\n",
       "        count                         57.000000\n",
       "9       importance                     0.000046\n",
       "        count                         48.000000\n",
       "10      importance                     0.001021\n",
       "        count                        850.000000\n",
       "11      importance                     0.000357\n",
       "        count                        139.000000\n",
       "12      importance                     0.000728\n",
       "        count                        193.000000\n",
       "13      importance                     0.002690\n",
       "        count                       1335.000000\n",
       "14      importance                     0.004862\n",
       "        count                        882.000000\n",
       "...                                         ...\n",
       "121     importance                     0.000312\n",
       "        count                        187.000000\n",
       "122     importance                     0.012714\n",
       "        count                        304.000000\n",
       "123     importance                     0.001327\n",
       "        count                        162.000000\n",
       "124     importance                     0.000383\n",
       "        count                        193.000000\n",
       "125     importance                     0.002108\n",
       "        count                        845.000000\n",
       "126     importance                     0.002376\n",
       "        count                       1349.000000\n",
       "127     importance                     0.001497\n",
       "        count                        843.000000\n",
       "128     importance                     0.005861\n",
       "        count                       1791.000000\n",
       "129     importance                     0.004005\n",
       "        count                       1678.000000\n",
       "130     importance                     0.002885\n",
       "        count                       1100.000000\n",
       "131     importance                     0.000690\n",
       "        count                        374.000000\n",
       "132     importance                     0.002688\n",
       "        count                       1841.000000\n",
       "133     importance                     0.020894\n",
       "        count                        959.000000\n",
       "134     importance                     0.002972\n",
       "        count                       1284.000000\n",
       "135     importance                     0.000500\n",
       "        count                        482.000000\n",
       "\n",
       "[272 rows x 1 columns]"
      ]
     },
     "execution_count": 26,
     "metadata": {},
     "output_type": "execute_result"
    }
   ],
   "source": [
    "from rankeval.analysis.feature import feature_importance\n",
    "from rankeval.metrics import MSE\n",
    "\n",
    "# Create the metric to use as performance measure\n",
    "mse = MSE()\n",
    "\n",
    "feature_analysis = feature_importance(model=msn_lgbm_lmart_1Ktrees_model, \n",
    "                                      dataset=msn_train, \n",
    "                                      metric=mse)\n",
    "feature_analysis.T.to_dataframe()"
   ]
  },
  {
   "cell_type": "markdown",
   "metadata": {},
   "source": [
    "RankEval provides also a utility for directly plotting the result of the feature analysis in order to have a visual representation of the importance of each feature. The method `plot_feature_importance` takes in input the analysis executed above, as well as the number of top-k features to plot and how to sort the features (by importance gain or by gain). Moreover, it is possible to pass a list of feature names to use in place on feature index in the plot."
   ]
  },
  {
   "cell_type": "code",
   "execution_count": 27,
   "metadata": {},
   "outputs": [
    {
     "data": {
      "image/png": "[encoded data removed]",
      "text/plain": [
       "<matplotlib.figure.Figure at 0x7f910622fa10>"
      ]
     },
     "metadata": {},
     "output_type": "display_data"
    }
   ],
   "source": [
    "from rankeval.visualization.feature import plot_feature_importance\n",
    "\n",
    "fig = plot_feature_importance(feature_analysis, max_features=20, sort_by='gain')"
   ]
  },
  {
   "cell_type": "markdown",
   "metadata": {},
   "source": [
    "## Train LightGBM model by using only Top-20 Features out of 136"
   ]
  },
  {
   "cell_type": "code",
   "execution_count": 34,
   "metadata": {
    "collapsed": true
   },
   "outputs": [],
   "source": [
    "sorted_features = np.argsort(feature_analysis.sel(type='importance').values)[::-1]\n",
    "top_features = sorted_features[:20]\n",
    "\n",
    "msn_train_filtered = msn_train.subset_features(top_features)\n",
    "\n",
    "msn_lgbm_lmart_1Ktrees_top20f_model = lightGBM_algo(trees=1000, \n",
    "                                                    leaves=32, \n",
    "                                                    dataset=msn_train_filtered)"
   ]
  },
  {
   "cell_type": "markdown",
   "metadata": {},
   "source": [
    "LightGBM model using top 20 features only has a metric score of:"
   ]
  },
  {
   "cell_type": "code",
   "execution_count": 35,
   "metadata": {},
   "outputs": [
    {
     "name": "stdout",
     "output_type": "stream",
     "text": [
      "NDCG@10: 0.486\n"
     ]
    }
   ],
   "source": [
    "y_pred = msn_lgbm_lmart_1Ktrees_top20f_model.score(msn_train_filtered)\n",
    "print \"%s: %.3f\" % (ndcg_10, ndcg_10.eval(msn_train_filtered, y_pred)[0])"
   ]
  },
  {
   "cell_type": "markdown",
   "metadata": {},
   "source": [
    "Compared to the performance of the model using all features (0.495) it performs slightly worser but using only 15% of the features."
   ]
  },
  {
   "cell_type": "code",
   "execution_count": null,
   "metadata": {
    "collapsed": true
   },
   "outputs": [],
   "source": []
  }
 ],
 "metadata": {
  "kernelspec": {
   "display_name": "Python 2",
   "language": "python",
   "name": "python2"
  },
  "language_info": {
   "codemirror_mode": {
    "name": "ipython",
    "version": 2
   },
   "file_extension": ".py",
   "mimetype": "text/x-python",
   "name": "python",
   "nbconvert_exporter": "python",
   "pygments_lexer": "ipython2",
   "version": "2.7.6"
  }
 },
 "nbformat": 4,
 "nbformat_minor": 2
}
