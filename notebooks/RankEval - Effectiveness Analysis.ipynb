{
 "cells": [
  {
   "cell_type": "markdown",
   "metadata": {},
   "source": [
    "# TODO:\n",
    "\n",
    " - Use container for datasets and models - ?, for now from path\n",
    " - rifare tutto con msn - DONE\n",
    " - no_relevant_results - DONE\n",
    " - \">\" =1 spiegat istanza la metrica - DONE\n",
    " - aggiungere linee orizzontali al bar - DONE\n",
    " - salvo check width barre - DONE\n",
    " - solo 3 cifre decimali, orizzontali o niente - DONE"
   ]
  },
  {
   "cell_type": "markdown",
   "metadata": {
    "collapsed": true
   },
   "source": [
    "# Effectiveness analysis \n",
    "Effectiveness analysis comprises multiple performance tests.\n",
    "\n",
    "In the following notebook we will instruct/demonstrate how to load models and datasets, create metrics and perform the available effectiveness analyses and visualize and interpret the results:\n",
    " - Model performance\n",
    " - Tree-wise performance\n",
    " - Tree-Wise average Contribution\n",
    " - Query-wise performance\n",
    " - Query class performance\n",
    " - Document graded-relevance performance\n",
    " - Rank confusion matrix\n",
    "        "
   ]
  },
  {
   "cell_type": "markdown",
   "metadata": {},
   "source": [
    "#### Essential imports"
   ]
  },
  {
   "cell_type": "code",
   "execution_count": 15,
   "metadata": {},
   "outputs": [
    {
     "name": "stdout",
     "output_type": "stream",
     "text": [
      "The autoreload extension is already loaded. To reload it, use:\n",
      "  %reload_ext autoreload\n"
     ]
    }
   ],
   "source": [
    "%matplotlib inline\n",
    "%load_ext autoreload\n",
    "%autoreload 2\n",
    "\n",
    "import matplotlib.pyplot as plt\n",
    "\n",
    "import os\n",
    "import numpy as np\n",
    "import pandas as pd\n",
    "import xarray as xr\n",
    "\n",
    "# Useful to reload the module without having to restart the notebook kernel\n",
    "import rankeval.analysis.effectiveness\n",
    "import rankeval.visualization.effectiveness\n",
    "import rankeval.metrics\n",
    "from rankeval.dataset.datasets_fetcher import load_dataset"
   ]
  },
  {
   "cell_type": "markdown",
   "metadata": {},
   "source": [
    "# Loading datasets and models\n",
    "\n",
    "In order to browse and load dataset and models the user can call the load_dataset utility. This tool is currently able to load datasets and "
   ]
  },
  {
   "cell_type": "code",
   "execution_count": 2,
   "metadata": {},
   "outputs": [
    {
     "name": "stdout",
     "output_type": "stream",
     "text": [
      "Loading files. This may take a few minutes.\n",
      "done loading dataset!\n"
     ]
    }
   ],
   "source": [
    "# Dataset container\n",
    "dataset_container = load_dataset(dataset_name='msn10k', \n",
    "                                fold='1', \n",
    "                                download_if_missing=True, \n",
    "                                force_download=False, \n",
    "                                with_models=True)"
   ]
  },
  {
   "cell_type": "markdown",
   "metadata": {},
   "source": [
    "## Datasets"
   ]
  },
  {
   "cell_type": "code",
   "execution_count": 3,
   "metadata": {
    "collapsed": true
   },
   "outputs": [],
   "source": [
    "# Remapping Datasets Names\n",
    "msn_train = dataset_container.train_dataset\n",
    "msn_validation = dataset_container.validation_dataset\n",
    "msn_test = dataset_container.test_dataset"
   ]
  },
  {
   "cell_type": "markdown",
   "metadata": {},
   "source": [
    "## Choose and load models"
   ]
  },
  {
   "cell_type": "code",
   "execution_count": 4,
   "metadata": {},
   "outputs": [
    {
     "data": {
      "text/plain": [
       "[u'/home/rankeval/rankeval_data/msn10k/models/Fold1/lightgbm/msn1.lightgbm.LAMBDAMART.1000.32.T1000.model',\n",
       " u'/home/rankeval/rankeval_data/msn10k/models/Fold1/catboost/msn1.catboost.LAMBDAMART.1000.5.T1000.json',\n",
       " u'/home/rankeval/rankeval_data/msn10k/models/Fold1/catboost/msn1.catboost.LAMBDAMART.1000.5.T1000.model',\n",
       " u'/home/rankeval/rankeval_data/msn10k/models/Fold1/quickrank/msn1.quickrank.LAMBDAMART.20000.32.T20000.xml',\n",
       " u'/home/rankeval/rankeval_data/msn10k/models/Fold1/quickrank/msn1.quickrank.LAMBDAMART.20000.32.T5000.xml',\n",
       " u'/home/rankeval/rankeval_data/msn10k/models/Fold1/quickrank/msn1.quickrank.LAMBDAMART.20000.32.T1000.xml',\n",
       " u'/home/rankeval/rankeval_data/msn10k/models/Fold1/quickrank/msn1.quickrank.LAMBDAMART.20000.32.T15000.xml',\n",
       " u'/home/rankeval/rankeval_data/msn10k/models/Fold1/quickrank/msn1.quickrank.LAMBDAMART.20000.32.T10000.xml',\n",
       " u'/home/rankeval/rankeval_data/msn10k/models/Fold1/xgboost/msn1.xgboost.LAMBDAMART.1000.5.T1000.model']"
      ]
     },
     "execution_count": 4,
     "metadata": {},
     "output_type": "execute_result"
    }
   ],
   "source": [
    "# View available models\n",
    "dataset_container.model_filenames"
   ]
  },
  {
   "cell_type": "code",
   "execution_count": 5,
   "metadata": {
    "collapsed": true
   },
   "outputs": [],
   "source": [
    "# Model files\n",
    "msn_qr_lmart_1Ktrees_file = dataset_container.model_filenames[5]\n",
    "msn_qr_lmart_15Ktrees_file = dataset_container.model_filenames[6]\n",
    "msn_xgb_lmart_1Ktrees_file = dataset_container.model_filenames[8]\n",
    "msn_lgbm_lmart_1Ktrees_file = dataset_container.model_filenames[0]"
   ]
  },
  {
   "cell_type": "code",
   "execution_count": 6,
   "metadata": {
    "collapsed": true
   },
   "outputs": [],
   "source": [
    "# Loading Models\n",
    "from rankeval.model import RTEnsemble\n",
    "\n",
    "msn_qr_lmart_1Ktrees = RTEnsemble(msn_qr_lmart_1Ktrees_file, name=\"QR_lmart_1K\", format=\"QuickRank\")\n",
    "msn_qr_lmart_15Ktrees = RTEnsemble(msn_qr_lmart_15Ktrees_file, name=\"QR_lmart_15K\", format=\"QuickRank\")\n",
    "msn_xgb_lmart_1Ktrees = RTEnsemble(msn_xgb_lmart_1Ktrees_file, name=\"XGB_lmart_1K\", format=\"XGBoost\")\n",
    "msn_lgbm_lmart_1Ktrees = RTEnsemble(msn_lgbm_lmart_1Ktrees_file, name=\"LGBM_lmart_1K\", format=\"LightGBM\")"
   ]
  },
  {
   "cell_type": "markdown",
   "metadata": {},
   "source": [
    "### Create metrics \n",
    "\n",
    "The basic functionality proposed in the effectiveness analysis section is to see the performance of pre-trained models w.r.t several features. We offer implementations for various features like: __DCG, NDCG, MAP, ERR, MRR, pfound, RBP, precision, recall, Spearman’s Rho, Kendall’s tau.__\n",
    "\n",
    "These features have similar parameters with allow users to configure specific settings. We discuss some of the most used parameters:\n",
    "\n",
    "* _cutoff_ : It helps set the top k results to be considered at per query level. If ommited, the default values is None, and it considers the complete list os instances per query, without any limitation.\n",
    "* *no\\_relevant\\_results* : It helps the user manage the situation when queries have no relevant results. For example, when considering NDCG, a query with no relevant results is assigned a score equal to 1 in LightGBM, equal to 0 in QuickRank and RankLib, and equal to 0.5 in the Yahoo Learning to Rank Challenge. This is also the reason why it is currently difficult to evaluate and compare models learnt with different tools. RankEval tries to mititgate this effect/issue.\n",
    "* _threshold_: It helps the user set a threshold for what she/he considers to be a relevant result, usually >=1. It is employed mainly by point-wise metrics which do not take into consideration the ranking of the list. The default is 1, so any instance labeled with a value different from 0 is considered relevant. It must take values from the range of the label values (0,4].\n",
    "* _implementation_: It help decide which implementation of a metric the user wants to adopt. We currently use it for DCG and NDCG and the user can choose from {\"flat\", \"exp\"}. \n",
    "\n",
    "All settings for each metric are explained in more detail in the documentation."
   ]
  },
  {
   "cell_type": "code",
   "execution_count": 7,
   "metadata": {
    "collapsed": true
   },
   "outputs": [],
   "source": [
    "from rankeval.metrics import Precision, Recall, NDCG\n",
    "\n",
    "precision_10 = Precision(cutoff=10)\n",
    "recall_10 = Recall(cutoff=10)\n",
    "ndcg_10 = NDCG(cutoff=10, no_relevant_results=0.5, implementation='exp')"
   ]
  },
  {
   "cell_type": "markdown",
   "metadata": {},
   "source": [
    "# Effectiveness analysis\n",
    "Evaluate the effectiveness of a set of models over several datasets and using the set of metrics above.\n",
    "\n",
    "Each analysis returns a **xarray.DataArray** data structure. xarray is an extension of the famous pandas package offering similar features and capabilities but supporting multi-dimensional data structures (with a number of dimension potentially much greater than 2)."
   ]
  },
  {
   "cell_type": "markdown",
   "metadata": {},
   "source": [
    "##  1. Model performance\n",
    "\n",
    "Model performance is the effectiveness analysis which allows users to compare different models on different metrics. \n",
    "\n",
    "We first call the **model_performance** type of analysis and pass as parameters the **datasets, models and metrics** we want to see results for. The method returns a xarray.DataArray data structure containing all the computed information. We can visualize results for the model_performance analysis by simply converting it to a pandas dataframe.\n",
    "\n",
    "To better visualize the results we offer plotting facilities."
   ]
  },
  {
   "cell_type": "markdown",
   "metadata": {},
   "source": [
    "#### -> Calling model performance analysis"
   ]
  },
  {
   "cell_type": "code",
   "execution_count": null,
   "metadata": {
    "collapsed": true
   },
   "outputs": [],
   "source": [
    "from rankeval.analysis.effectiveness import model_performance\n",
    "\n",
    "msn_model_perf = model_performance(datasets=[msn_test], \n",
    "                           models=[msn_qr_lmart_1Ktrees, msn_qr_lmart_15Ktrees, msn_xgb_lmart_1Ktrees], \n",
    "                           metrics=[precision_10, recall_10, ndcg_10])\n",
    "msn_model_perf.to_dataframe()"
   ]
  },
  {
   "cell_type": "markdown",
   "metadata": {},
   "source": [
    "#### -> Plot results\n",
    "\n",
    "The **plot_model_performance** method helps visualize the **model_performance** analysis results in the form of a plot. It takes as input: \n",
    " - model_performance xarray: the model_performance analysis results for a given combinations of: dataset(s), model(s) and metric(s). \n",
    " - compare: allows the user to compare models or metrics. Accepted values are \"models\" or \"metrics\".\n",
    " - show values: allows the user to show the actual values on the plotted bars"
   ]
  },
  {
   "cell_type": "code",
   "execution_count": null,
   "metadata": {
    "collapsed": true,
    "scrolled": false
   },
   "outputs": [],
   "source": [
    "from rankeval.visualization.effectiveness import plot_model_performance\n",
    "\n",
    "fig1 = plot_model_performance(msn_model_perf, compare=\"models\",  show_values=True)\n",
    "fig1.show()\n",
    "fig2 = plot_model_performance(msn_model_perf, compare=\"metrics\", show_values=True)\n",
    "fig2.show()"
   ]
  },
  {
   "cell_type": "markdown",
   "metadata": {},
   "source": [
    "##  2. Tree-Wise Performance\n",
    "\n",
    "RankEval provides the possibility to evaluate different effectiveness metrics incrementally by varying the number of trees in the model, i.e., top-k trees. This may be usefull for finding the “optimal” model size, e.g., by evaluating the overfitting effect on a validation set.\n",
    "\n",
    "Firstly, we call the **tree_wise_performance** analysis and pass as parameters the **datasets, models and metrics** we want to see results for. The method returns a xarray.DataArray data structure containing all the computed information. We can visualize results for the tree_wise_performance analysis by simply converting it to a pandas dataframe.\n",
    "\n",
    "To better visualize the results we offer plotting facilities."
   ]
  },
  {
   "cell_type": "markdown",
   "metadata": {},
   "source": [
    "#### -> Calling tree-wise performance analysis"
   ]
  },
  {
   "cell_type": "code",
   "execution_count": null,
   "metadata": {
    "collapsed": true
   },
   "outputs": [],
   "source": [
    "from rankeval.analysis.effectiveness import tree_wise_performance\n",
    "\n",
    "# compare validation vs. test, discuss overfitting\n",
    "msn_tree_wise_perf = tree_wise_performance(datasets=[msn_train, msn_validation, msn_test], \n",
    "                                          models=[msn_qr_lmart_1Ktrees, msn_xgb_lmart_1Ktrees],\n",
    "                                          metrics=[precision_10, recall_10, ndcg_10],\n",
    "                                          step=10)\n",
    "msn_tree_wise_perf.to_dataframe()"
   ]
  },
  {
   "cell_type": "markdown",
   "metadata": {},
   "source": [
    "#### -> Plot results\n",
    "\n",
    "The **plot_tree_wise_performance** method helps visualize the **tree_wise_performance** analysis results in the form of a plot. It takes as input:\n",
    " - tree_wise_model_performance xarray: the tree_wise_model_performance analysis results for a given combinations of: dataset(s), model(s) and metric(s).\n",
    " - compare: allows the user to compare models, metrics and datasets. Accepted values are \"datasets\", \"models\" or \"metrics\".\n",
    " \n",
    "The black circle on the plotted line indicates the maximum value achieved by the metric for each model on each dataset. It is a good indicator of when the model reaches stability.    "
   ]
  },
  {
   "cell_type": "code",
   "execution_count": null,
   "metadata": {
    "collapsed": true
   },
   "outputs": [],
   "source": [
    "from rankeval.visualization.effectiveness import plot_tree_wise_performance\n",
    "\n",
    "fig1 = plot_tree_wise_performance(msn_tree_wise_perf, compare = \"models\") \n",
    "fig1.show()\n",
    "fig2 = plot_tree_wise_performance(msn_tree_wise_perf, compare = \"datasets\")\n",
    "fig2.show()"
   ]
  },
  {
   "cell_type": "markdown",
   "metadata": {
    "collapsed": true
   },
   "source": [
    "## 3. Tree-Wise Average Contribution"
   ]
  },
  {
   "cell_type": "markdown",
   "metadata": {},
   "source": [
    "RankEval allows to measure the contribution of each single tree to the global model accuracy independently of their order in the forest. This may  allow to reduce the size of the forest by identifying subsets of trees to prune since their contribution to the model is limited.\n",
    "\n",
    "Firstly, we call the **tree_wise_average_contribution** analysis and pass as parameters the **datasets, models and metrics*** we want to see results for. The method returns a xarray.DataArray data structure containing all the computed information. We can visualize results for the tree_wise_average_contribution analysis by simply calling it or converting it to a pandas dataframe.\n",
    "\n",
    "To better visualize the results we offer plotting facilities."
   ]
  },
  {
   "cell_type": "markdown",
   "metadata": {},
   "source": [
    "#### -> Computes tree-wise average contribution analysis"
   ]
  },
  {
   "cell_type": "code",
   "execution_count": 8,
   "metadata": {},
   "outputs": [
    {
     "data": {
      "text/html": [
       "<div>\n",
       "<style>\n",
       "    .dataframe thead tr:only-child th {\n",
       "        text-align: right;\n",
       "    }\n",
       "\n",
       "    .dataframe thead th {\n",
       "        text-align: left;\n",
       "    }\n",
       "\n",
       "    .dataframe tbody tr th {\n",
       "        vertical-align: top;\n",
       "    }\n",
       "</style>\n",
       "<table border=\"1\" class=\"dataframe\">\n",
       "  <thead>\n",
       "    <tr style=\"text-align: right;\">\n",
       "      <th></th>\n",
       "      <th></th>\n",
       "      <th></th>\n",
       "      <th>Tree-Wise Average Contribution</th>\n",
       "    </tr>\n",
       "    <tr>\n",
       "      <th>dataset</th>\n",
       "      <th>model</th>\n",
       "      <th>trees</th>\n",
       "      <th></th>\n",
       "    </tr>\n",
       "  </thead>\n",
       "  <tbody>\n",
       "    <tr>\n",
       "      <th rowspan=\"61\" valign=\"top\">msn10k</th>\n",
       "      <th rowspan=\"30\" valign=\"top\">LGBM_lmart_1K</th>\n",
       "      <th>0</th>\n",
       "      <td>0.001031</td>\n",
       "    </tr>\n",
       "    <tr>\n",
       "      <th>1</th>\n",
       "      <td>0.001653</td>\n",
       "    </tr>\n",
       "    <tr>\n",
       "      <th>2</th>\n",
       "      <td>0.001660</td>\n",
       "    </tr>\n",
       "    <tr>\n",
       "      <th>3</th>\n",
       "      <td>0.001604</td>\n",
       "    </tr>\n",
       "    <tr>\n",
       "      <th>4</th>\n",
       "      <td>0.001417</td>\n",
       "    </tr>\n",
       "    <tr>\n",
       "      <th>5</th>\n",
       "      <td>0.001453</td>\n",
       "    </tr>\n",
       "    <tr>\n",
       "      <th>6</th>\n",
       "      <td>0.001355</td>\n",
       "    </tr>\n",
       "    <tr>\n",
       "      <th>7</th>\n",
       "      <td>0.001394</td>\n",
       "    </tr>\n",
       "    <tr>\n",
       "      <th>8</th>\n",
       "      <td>0.001291</td>\n",
       "    </tr>\n",
       "    <tr>\n",
       "      <th>9</th>\n",
       "      <td>0.001409</td>\n",
       "    </tr>\n",
       "    <tr>\n",
       "      <th>10</th>\n",
       "      <td>0.001350</td>\n",
       "    </tr>\n",
       "    <tr>\n",
       "      <th>11</th>\n",
       "      <td>0.001388</td>\n",
       "    </tr>\n",
       "    <tr>\n",
       "      <th>12</th>\n",
       "      <td>0.001357</td>\n",
       "    </tr>\n",
       "    <tr>\n",
       "      <th>13</th>\n",
       "      <td>0.001221</td>\n",
       "    </tr>\n",
       "    <tr>\n",
       "      <th>14</th>\n",
       "      <td>0.001270</td>\n",
       "    </tr>\n",
       "    <tr>\n",
       "      <th>15</th>\n",
       "      <td>0.001248</td>\n",
       "    </tr>\n",
       "    <tr>\n",
       "      <th>16</th>\n",
       "      <td>0.001244</td>\n",
       "    </tr>\n",
       "    <tr>\n",
       "      <th>17</th>\n",
       "      <td>0.001236</td>\n",
       "    </tr>\n",
       "    <tr>\n",
       "      <th>18</th>\n",
       "      <td>0.001142</td>\n",
       "    </tr>\n",
       "    <tr>\n",
       "      <th>19</th>\n",
       "      <td>0.001140</td>\n",
       "    </tr>\n",
       "    <tr>\n",
       "      <th>20</th>\n",
       "      <td>0.001186</td>\n",
       "    </tr>\n",
       "    <tr>\n",
       "      <th>21</th>\n",
       "      <td>0.001198</td>\n",
       "    </tr>\n",
       "    <tr>\n",
       "      <th>22</th>\n",
       "      <td>0.001195</td>\n",
       "    </tr>\n",
       "    <tr>\n",
       "      <th>23</th>\n",
       "      <td>0.001182</td>\n",
       "    </tr>\n",
       "    <tr>\n",
       "      <th>24</th>\n",
       "      <td>0.001171</td>\n",
       "    </tr>\n",
       "    <tr>\n",
       "      <th>25</th>\n",
       "      <td>0.001181</td>\n",
       "    </tr>\n",
       "    <tr>\n",
       "      <th>26</th>\n",
       "      <td>0.001170</td>\n",
       "    </tr>\n",
       "    <tr>\n",
       "      <th>27</th>\n",
       "      <td>0.001192</td>\n",
       "    </tr>\n",
       "    <tr>\n",
       "      <th>28</th>\n",
       "      <td>0.001185</td>\n",
       "    </tr>\n",
       "    <tr>\n",
       "      <th>29</th>\n",
       "      <td>0.001146</td>\n",
       "    </tr>\n",
       "    <tr>\n",
       "      <th>...</th>\n",
       "      <th>...</th>\n",
       "      <td>...</td>\n",
       "    </tr>\n",
       "    <tr>\n",
       "      <th rowspan=\"30\" valign=\"top\">QR_lmart_1K</th>\n",
       "      <th>970</th>\n",
       "      <td>0.000654</td>\n",
       "    </tr>\n",
       "    <tr>\n",
       "      <th>971</th>\n",
       "      <td>0.000256</td>\n",
       "    </tr>\n",
       "    <tr>\n",
       "      <th>972</th>\n",
       "      <td>0.001654</td>\n",
       "    </tr>\n",
       "    <tr>\n",
       "      <th>973</th>\n",
       "      <td>0.001531</td>\n",
       "    </tr>\n",
       "    <tr>\n",
       "      <th>974</th>\n",
       "      <td>0.001512</td>\n",
       "    </tr>\n",
       "    <tr>\n",
       "      <th>975</th>\n",
       "      <td>0.000296</td>\n",
       "    </tr>\n",
       "    <tr>\n",
       "      <th>976</th>\n",
       "      <td>0.003826</td>\n",
       "    </tr>\n",
       "    <tr>\n",
       "      <th>977</th>\n",
       "      <td>0.001174</td>\n",
       "    </tr>\n",
       "    <tr>\n",
       "      <th>978</th>\n",
       "      <td>0.001375</td>\n",
       "    </tr>\n",
       "    <tr>\n",
       "      <th>979</th>\n",
       "      <td>0.001243</td>\n",
       "    </tr>\n",
       "    <tr>\n",
       "      <th>980</th>\n",
       "      <td>0.000344</td>\n",
       "    </tr>\n",
       "    <tr>\n",
       "      <th>981</th>\n",
       "      <td>0.002342</td>\n",
       "    </tr>\n",
       "    <tr>\n",
       "      <th>982</th>\n",
       "      <td>0.000221</td>\n",
       "    </tr>\n",
       "    <tr>\n",
       "      <th>983</th>\n",
       "      <td>0.003749</td>\n",
       "    </tr>\n",
       "    <tr>\n",
       "      <th>984</th>\n",
       "      <td>0.000789</td>\n",
       "    </tr>\n",
       "    <tr>\n",
       "      <th>985</th>\n",
       "      <td>0.002347</td>\n",
       "    </tr>\n",
       "    <tr>\n",
       "      <th>986</th>\n",
       "      <td>0.001781</td>\n",
       "    </tr>\n",
       "    <tr>\n",
       "      <th>987</th>\n",
       "      <td>0.003188</td>\n",
       "    </tr>\n",
       "    <tr>\n",
       "      <th>988</th>\n",
       "      <td>0.002458</td>\n",
       "    </tr>\n",
       "    <tr>\n",
       "      <th>989</th>\n",
       "      <td>0.001228</td>\n",
       "    </tr>\n",
       "    <tr>\n",
       "      <th>990</th>\n",
       "      <td>0.002276</td>\n",
       "    </tr>\n",
       "    <tr>\n",
       "      <th>991</th>\n",
       "      <td>0.003055</td>\n",
       "    </tr>\n",
       "    <tr>\n",
       "      <th>992</th>\n",
       "      <td>0.002028</td>\n",
       "    </tr>\n",
       "    <tr>\n",
       "      <th>993</th>\n",
       "      <td>0.000420</td>\n",
       "    </tr>\n",
       "    <tr>\n",
       "      <th>994</th>\n",
       "      <td>0.003200</td>\n",
       "    </tr>\n",
       "    <tr>\n",
       "      <th>995</th>\n",
       "      <td>0.003003</td>\n",
       "    </tr>\n",
       "    <tr>\n",
       "      <th>996</th>\n",
       "      <td>0.002016</td>\n",
       "    </tr>\n",
       "    <tr>\n",
       "      <th>997</th>\n",
       "      <td>0.002502</td>\n",
       "    </tr>\n",
       "    <tr>\n",
       "      <th>998</th>\n",
       "      <td>0.002396</td>\n",
       "    </tr>\n",
       "    <tr>\n",
       "      <th>999</th>\n",
       "      <td>0.001063</td>\n",
       "    </tr>\n",
       "  </tbody>\n",
       "</table>\n",
       "<p>4000 rows × 1 columns</p>\n",
       "</div>"
      ],
      "text/plain": [
       "                             Tree-Wise Average Contribution\n",
       "dataset model         trees                                \n",
       "msn10k  LGBM_lmart_1K 0                            0.001031\n",
       "                      1                            0.001653\n",
       "                      2                            0.001660\n",
       "                      3                            0.001604\n",
       "                      4                            0.001417\n",
       "                      5                            0.001453\n",
       "                      6                            0.001355\n",
       "                      7                            0.001394\n",
       "                      8                            0.001291\n",
       "                      9                            0.001409\n",
       "                      10                           0.001350\n",
       "                      11                           0.001388\n",
       "                      12                           0.001357\n",
       "                      13                           0.001221\n",
       "                      14                           0.001270\n",
       "                      15                           0.001248\n",
       "                      16                           0.001244\n",
       "                      17                           0.001236\n",
       "                      18                           0.001142\n",
       "                      19                           0.001140\n",
       "                      20                           0.001186\n",
       "                      21                           0.001198\n",
       "                      22                           0.001195\n",
       "                      23                           0.001182\n",
       "                      24                           0.001171\n",
       "                      25                           0.001181\n",
       "                      26                           0.001170\n",
       "                      27                           0.001192\n",
       "                      28                           0.001185\n",
       "                      29                           0.001146\n",
       "...                                                     ...\n",
       "        QR_lmart_1K   970                          0.000654\n",
       "                      971                          0.000256\n",
       "                      972                          0.001654\n",
       "                      973                          0.001531\n",
       "                      974                          0.001512\n",
       "                      975                          0.000296\n",
       "                      976                          0.003826\n",
       "                      977                          0.001174\n",
       "                      978                          0.001375\n",
       "                      979                          0.001243\n",
       "                      980                          0.000344\n",
       "                      981                          0.002342\n",
       "                      982                          0.000221\n",
       "                      983                          0.003749\n",
       "                      984                          0.000789\n",
       "                      985                          0.002347\n",
       "                      986                          0.001781\n",
       "                      987                          0.003188\n",
       "                      988                          0.002458\n",
       "                      989                          0.001228\n",
       "                      990                          0.002276\n",
       "                      991                          0.003055\n",
       "                      992                          0.002028\n",
       "                      993                          0.000420\n",
       "                      994                          0.003200\n",
       "                      995                          0.003003\n",
       "                      996                          0.002016\n",
       "                      997                          0.002502\n",
       "                      998                          0.002396\n",
       "                      999                          0.001063\n",
       "\n",
       "[4000 rows x 1 columns]"
      ]
     },
     "execution_count": 8,
     "metadata": {},
     "output_type": "execute_result"
    }
   ],
   "source": [
    "from rankeval.analysis.effectiveness import tree_wise_average_contribution\n",
    "\n",
    "msn_tree_contrib = tree_wise_average_contribution(datasets=[msn_validation, msn_test], \n",
    "                           models=[msn_lgbm_lmart_1Ktrees, msn_qr_lmart_1Ktrees])\n",
    "msn_tree_contrib.to_dataframe()"
   ]
  },
  {
   "cell_type": "markdown",
   "metadata": {},
   "source": [
    "#### -> Plot results\n",
    "\n",
    "The **plot_tree_wise_average_contribution** method helps visualize the **tree_wise_average_contribution** analysis results in the form of a plot. It takes as input:\n",
    " - tree_wise_average_contribution xarray: the tree_wise_average_contribution analysis results for a given combinations of: dataset(s) and model(s)."
   ]
  },
  {
   "cell_type": "code",
   "execution_count": 19,
   "metadata": {},
   "outputs": [
    {
     "ename": "AttributeError",
     "evalue": "'NoneType' object has no attribute 'show'",
     "output_type": "error",
     "traceback": [
      "\u001b[0;31m---------------------------------------------------------------------------\u001b[0m",
      "\u001b[0;31mAttributeError\u001b[0m                            Traceback (most recent call last)",
      "\u001b[0;32m<ipython-input-19-f8d9cd4a55c0>\u001b[0m in \u001b[0;36m<module>\u001b[0;34m()\u001b[0m\n\u001b[1;32m      2\u001b[0m \u001b[0;34m\u001b[0m\u001b[0m\n\u001b[1;32m      3\u001b[0m \u001b[0mfigure\u001b[0m \u001b[0;34m=\u001b[0m \u001b[0mplot_tree_wise_average_contribution\u001b[0m\u001b[0;34m(\u001b[0m\u001b[0mmsn_tree_contrib\u001b[0m\u001b[0;34m)\u001b[0m\u001b[0;34m\u001b[0m\u001b[0m\n\u001b[0;32m----> 4\u001b[0;31m \u001b[0mfigure\u001b[0m\u001b[0;34m.\u001b[0m\u001b[0mshow\u001b[0m\u001b[0;34m(\u001b[0m\u001b[0;34m)\u001b[0m\u001b[0;34m\u001b[0m\u001b[0m\n\u001b[0m",
      "\u001b[0;31mAttributeError\u001b[0m: 'NoneType' object has no attribute 'show'"
     ]
    },
    {
     "data": {
      "image/png": "[encoded data removed]",
      "text/plain": [
       "<matplotlib.figure.Figure at 0x7f1a4a4d8c10>"
      ]
     },
     "metadata": {},
     "output_type": "display_data"
    },
    {
     "data": {
      "image/png": "[encoded data removed]",
      "text/plain": [
       "<matplotlib.figure.Figure at 0x7f1a4a4cde50>"
      ]
     },
     "metadata": {},
     "output_type": "display_data"
    }
   ],
   "source": [
    "from rankeval.visualization.effectiveness import plot_tree_wise_average_contribution\n",
    "\n",
    "figure = plot_tree_wise_average_contribution(msn_tree_contrib)\n",
    "figure.show()"
   ]
  },
  {
   "cell_type": "markdown",
   "metadata": {},
   "source": [
    "## 4. Query-Wise Performance"
   ]
  },
  {
   "cell_type": "markdown",
   "metadata": {},
   "source": [
    "#### -> Computes query wise performance analysis"
   ]
  },
  {
   "cell_type": "code",
   "execution_count": null,
   "metadata": {
    "collapsed": true
   },
   "outputs": [],
   "source": [
    "from rankeval.analysis.effectiveness import query_wise_performance\n",
    "\n",
    "msn_query_wise_perf = query_wise_performance(datasets=[msn_test], \n",
    "                            models=[msn_mart_50, msn_lmart_100], \n",
    "                            metrics=[precision_10, recall_10, ndcg_10],\n",
    "                            bins=50)\n",
    "print msn_query_wise_perf"
   ]
  },
  {
   "cell_type": "markdown",
   "metadata": {},
   "source": [
    "#### -> Plot results\n",
    "\n",
    "**plot_query_wise_performance** takes as input:\n",
    "    - the query_wise_performance xarray (object) for given combinations of: dataset(s), model(s) and metric(s)\n",
    "    - compare: str\n",
    "        - the allowed values are: \"models\" and \"metrics\"\n",
    "        - it allows the user to compare models or metrics"
   ]
  },
  {
   "cell_type": "code",
   "execution_count": null,
   "metadata": {
    "collapsed": true
   },
   "outputs": [],
   "source": [
    "from rankeval.visualization.effectiveness import plot_query_wise_performance\n",
    "\n",
    "plot_query_wise_performance(msn_query_wise_perf, compare=\"models\")\n",
    "plot_query_wise_performance(msn_query_wise_perf, compare=\"metrics\")"
   ]
  },
  {
   "cell_type": "markdown",
   "metadata": {},
   "source": [
    "## 5. Document Graded Relevance"
   ]
  },
  {
   "cell_type": "markdown",
   "metadata": {},
   "source": [
    "#### -> Computes document graded relevance analysis"
   ]
  },
  {
   "cell_type": "code",
   "execution_count": null,
   "metadata": {
    "collapsed": true
   },
   "outputs": [],
   "source": [
    "from rankeval.analysis.effectiveness import document_graded_relevance\n",
    "\n",
    "istella_doc_graded_rel = document_graded_relevance(datasets=[istella_test], \n",
    "                               models=[istella_lmart_500], \n",
    "                               bins=50)\n",
    "print istella_doc_graded_rel\n",
    "\n",
    "msn_doc_graded_rel = document_graded_relevance(datasets=[msn_test], \n",
    "                                models=[msn_mart_50, msn_lmart_100],  \n",
    "                                bins=50)\n",
    "print msn_doc_graded_rel"
   ]
  },
  {
   "cell_type": "markdown",
   "metadata": {},
   "source": [
    "#### -> Plot results\n",
    "\n",
    "**plot_document_graded_relevance** takes as input:\n",
    "    - the document_graded_relevance xarray (object) for given combinations of: dataset(s), model(s) and metric(s)"
   ]
  },
  {
   "cell_type": "code",
   "execution_count": null,
   "metadata": {
    "collapsed": true
   },
   "outputs": [],
   "source": [
    "from rankeval.visualization.effectiveness import plot_document_graded_relevance\n",
    "\n",
    "plot_document_graded_relevance(istella_doc_graded_rel) \n",
    "plot_document_graded_relevance(msn_doc_graded_rel)"
   ]
  },
  {
   "cell_type": "markdown",
   "metadata": {},
   "source": [
    "## 6. Rank-Confusion Matrix"
   ]
  },
  {
   "cell_type": "markdown",
   "metadata": {},
   "source": [
    "#### -> Computes the rank confusion matrix analysis"
   ]
  },
  {
   "cell_type": "code",
   "execution_count": null,
   "metadata": {
    "collapsed": true
   },
   "outputs": [],
   "source": [
    "from rankeval.analysis.effectiveness import rank_confusion_matrix\n",
    "\n",
    "istella_confusion_matrix = rank_confusion_matrix(datasets=[istella_test], \n",
    "                               models=[istella_lmart_500])\n",
    "print istella_confusion_matrix\n",
    "\n",
    "msn_confusion_matrix = rank_confusion_matrix(datasets=[msn_test], \n",
    "                                models=[msn_mart_50, msn_lmart_100])\n",
    "print msn_confusion_matrix"
   ]
  },
  {
   "cell_type": "markdown",
   "metadata": {},
   "source": [
    "#### -> Plot results\n",
    "\n",
    "**plot_rank_confusion_matrix** takes as input:\n",
    "    - the rank_confusion_matrix xarray (object) for given combinations of: dataset(s), model(s) and metric(s)"
   ]
  },
  {
   "cell_type": "code",
   "execution_count": null,
   "metadata": {
    "collapsed": true
   },
   "outputs": [],
   "source": [
    "from rankeval.visualization.effectiveness import plot_rank_confusion_matrix\n",
    "\n",
    "plot_rank_confusion_matrix(df) \n",
    "plot_rank_confusion_matrix(df_msn) "
   ]
  },
  {
   "cell_type": "markdown",
   "metadata": {},
   "source": [
    "## 7. Query-Class Performance"
   ]
  },
  {
   "cell_type": "markdown",
   "metadata": {},
   "source": [
    "#### -> Computes the query class performance analysis"
   ]
  },
  {
   "cell_type": "code",
   "execution_count": null,
   "metadata": {
    "collapsed": true
   },
   "outputs": [],
   "source": [
    "from rankeval.analysis.effectiveness import query_class_performance\n",
    "\n",
    "classes = ['A', 'B', 'C', 'D', 'E']\n",
    "query_classes = np.array([[classes[np.random.randint(len(classes))] \n",
    "                           for _ in range(istella.n_queries)]])\n",
    "\n",
    "istella_query_class_perf = query_class_performance(datasets=[istella_test], \n",
    "                             models=[istella_lmart_500], \n",
    "                             metrics=[precision_10, recall_10, ndcg_10],\n",
    "                             query_classes=query_classes)\n",
    "print istella_query_class_perf\n",
    "\n",
    "msn_query_class_perf = query_class_performance(datasets=[msn_test], \n",
    "                                 models=[msn_mart_50, msn_lmart_100],\n",
    "                                 metrics=[precision_10, recall_10, ndcg_10],\n",
    "                                 query_classes=query_classes)\n",
    "print msn_query_class_perf\n"
   ]
  },
  {
   "cell_type": "markdown",
   "metadata": {},
   "source": [
    "#### -> Plot results\n",
    "\n",
    "**plot_query_class_performance** takes as input:\n",
    "    - the query_class_performance xarray (object) for given combinations of: dataset(s), model(s) and metric(s)\n",
    "    - compare: str\n",
    "        - the allowed values are: \"models\" and \"metrics\"\n",
    "        - it allows the user to compare models or metrics\n",
    "    - show values: bool\n",
    "        - shows the actual values on the plotted bars"
   ]
  },
  {
   "cell_type": "code",
   "execution_count": null,
   "metadata": {
    "collapsed": true
   },
   "outputs": [],
   "source": [
    "from rankeval.visualization.effectiveness import plot_query_class_performance\n",
    "\n",
    "plot_query_class_performance(df, compare=\"metrics\", show_values = True)\n",
    "plot_query_class_performance(df, compare=\"models\", show_values = True)"
   ]
  }
 ],
 "metadata": {
  "kernelspec": {
   "display_name": "Python 2",
   "language": "python",
   "name": "python2"
  },
  "language_info": {
   "codemirror_mode": {
    "name": "ipython",
    "version": 2
   },
   "file_extension": ".py",
   "mimetype": "text/x-python",
   "name": "python",
   "nbconvert_exporter": "python",
   "pygments_lexer": "ipython2",
   "version": "2.7.6"
  }
 },
 "nbformat": 4,
 "nbformat_minor": 1
}
